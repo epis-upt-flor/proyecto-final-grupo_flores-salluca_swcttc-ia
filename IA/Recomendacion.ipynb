{
 "cells": [
  {
   "cell_type": "markdown",
   "id": "75a00f21",
   "metadata": {},
   "source": [
    "## Librerias Conexión SQLServer"
   ]
  },
  {
   "cell_type": "code",
   "execution_count": 1,
   "id": "9ce79729",
   "metadata": {},
   "outputs": [
    {
     "name": "stdout",
     "output_type": "stream",
     "text": [
      "Requirement already satisfied: sqlalchemy in c:\\users\\hp\\anaconda3\\lib\\site-packages (1.4.39)\n",
      "Requirement already satisfied: greenlet!=0.4.17 in c:\\users\\hp\\anaconda3\\lib\\site-packages (from sqlalchemy) (1.1.1)\n",
      "Requirement already satisfied: pyodbc in c:\\users\\hp\\anaconda3\\lib\\site-packages (4.0.34)\n",
      "Requirement already satisfied: pandas in c:\\users\\hp\\anaconda3\\lib\\site-packages (1.4.4)\n",
      "Requirement already satisfied: python-dateutil>=2.8.1 in c:\\users\\hp\\anaconda3\\lib\\site-packages (from pandas) (2.8.2)\n",
      "Requirement already satisfied: pytz>=2020.1 in c:\\users\\hp\\anaconda3\\lib\\site-packages (from pandas) (2022.1)\n",
      "Requirement already satisfied: numpy>=1.18.5 in c:\\users\\hp\\anaconda3\\lib\\site-packages (from pandas) (1.21.5)\n",
      "Requirement already satisfied: six>=1.5 in c:\\users\\hp\\anaconda3\\lib\\site-packages (from python-dateutil>=2.8.1->pandas) (1.16.0)\n"
     ]
    }
   ],
   "source": [
    "!pip install sqlalchemy\n",
    "!pip install pyodbc\n",
    "!pip install pandas"
   ]
  },
  {
   "cell_type": "code",
   "execution_count": 2,
   "id": "12f48de9",
   "metadata": {},
   "outputs": [],
   "source": [
    "# Importar librerias\n",
    "import sqlalchemy\n",
    "from sqlalchemy import create_engine\n",
    "import pyodbc\n",
    "import pandas as pd\n",
    "import numpy as np"
   ]
  },
  {
   "cell_type": "markdown",
   "id": "24c060ef",
   "metadata": {},
   "source": [
    "## Conexión SQL Server"
   ]
  },
  {
   "cell_type": "code",
   "execution_count": 3,
   "id": "557f39c5",
   "metadata": {},
   "outputs": [],
   "source": [
    "# Definimos nuestra variable para conexion con autentificación Windows\n",
    "#server = \"DESKTOP-0UOT7UT\"\n",
    "server = \"DESKTOP-AFGNGKL\"\n",
    "namedatabase = 'ArtemisBD'\n",
    "# Realizamos la conexion a la base de datos SQL Server\n",
    "engine = create_engine(\"mssql+pyodbc://@\"+server+\"/\"+namedatabase+\"?driver=ODBC+Driver+17+for+SQL+Server\")\n",
    "con = engine.connect()"
   ]
  },
  {
   "cell_type": "code",
   "execution_count": 36,
   "id": "cc1b985e",
   "metadata": {},
   "outputs": [],
   "source": [
    "# Modificar Bases en SQL Server\n",
    "# Realizamos la conexion a la base de datos SQL Server\n",
    "#cnxn = pyodbc.connect('DRIVER = {ODBC Driver 17 for SQL Server};SERVER = DESKTOP-0UOT7UT; DATABASE = ArtemisBD; UID = sa; PWD = Park')\n",
    "#cnxn = pyodbc.connect('DRIVER = {ODBC Driver 17 for SQL Server};SERVER = EEPIS-11; DATABASE = ArtemisBD; UID = sa; PWD = upt')\n",
    "#cursor = cnxn.cursor()\n",
    "cursor.executea(\"Select * From dbo.Tipo_Especialidad;\")\n",
    "#cnxx.commit()\n",
    "# Crear un DataFrame\n",
    "columna = [column[0] for column in cursor.description]\n",
    "fila = [row for row in cursor.fetchall()]\n",
    "datos = np.array(fila)\n",
    "df_sql = pd.DataFrame(data=datos, columns=columna)\n",
    "cnxn.close()"
   ]
  },
  {
   "cell_type": "code",
   "execution_count": 4,
   "id": "b9024f0e",
   "metadata": {},
   "outputs": [],
   "source": [
    "# Almacenamos nuestra consulta en un variable\n",
    "query_Tipo_Especialidad = \"Select * From dbo.Tipo_Especialidad\"\n",
    "\n",
    "query_Especialidad = \"Select * From dbo.Especialidad\"\n",
    "query_Tecnico = \"Select * From dbo.Tecnico\"\n",
    "query_RTecnico_TipoEspecialidad = \"Select * From dbo.RTecnico_TipoEspecialidad\"\n"
   ]
  },
  {
   "cell_type": "code",
   "execution_count": 5,
   "id": "afcfe522",
   "metadata": {},
   "outputs": [
    {
     "data": {
      "text/html": [
       "<div>\n",
       "<style scoped>\n",
       "    .dataframe tbody tr th:only-of-type {\n",
       "        vertical-align: middle;\n",
       "    }\n",
       "\n",
       "    .dataframe tbody tr th {\n",
       "        vertical-align: top;\n",
       "    }\n",
       "\n",
       "    .dataframe thead th {\n",
       "        text-align: right;\n",
       "    }\n",
       "</style>\n",
       "<table border=\"1\" class=\"dataframe\">\n",
       "  <thead>\n",
       "    <tr style=\"text-align: right;\">\n",
       "      <th></th>\n",
       "      <th>Id_Tipo_Especialidad</th>\n",
       "      <th>TipoEspecialidad</th>\n",
       "      <th>Id_Especialidad</th>\n",
       "    </tr>\n",
       "  </thead>\n",
       "  <tbody>\n",
       "    <tr>\n",
       "      <th>0</th>\n",
       "      <td>1</td>\n",
       "      <td>Construcción de paredes</td>\n",
       "      <td>1</td>\n",
       "    </tr>\n",
       "    <tr>\n",
       "      <th>1</th>\n",
       "      <td>2</td>\n",
       "      <td>Instalación de puerta</td>\n",
       "      <td>2</td>\n",
       "    </tr>\n",
       "    <tr>\n",
       "      <th>2</th>\n",
       "      <td>3</td>\n",
       "      <td>Instalación electrica</td>\n",
       "      <td>3</td>\n",
       "    </tr>\n",
       "    <tr>\n",
       "      <th>3</th>\n",
       "      <td>4</td>\n",
       "      <td>Fabricación de Puerta</td>\n",
       "      <td>2</td>\n",
       "    </tr>\n",
       "    <tr>\n",
       "      <th>4</th>\n",
       "      <td>5</td>\n",
       "      <td>Instalación de ventanas</td>\n",
       "      <td>2</td>\n",
       "    </tr>\n",
       "  </tbody>\n",
       "</table>\n",
       "</div>"
      ],
      "text/plain": [
       "   Id_Tipo_Especialidad         TipoEspecialidad  Id_Especialidad\n",
       "0                     1  Construcción de paredes                1\n",
       "1                     2    Instalación de puerta                2\n",
       "2                     3    Instalación electrica                3\n",
       "3                     4    Fabricación de Puerta                2\n",
       "4                     5  Instalación de ventanas                2"
      ]
     },
     "execution_count": 5,
     "metadata": {},
     "output_type": "execute_result"
    }
   ],
   "source": [
    "# Leemos nuestra consulta query\n",
    "df_Tipo_Especialidad = pd.read_sql(query_Tipo_Especialidad, con)\n",
    "df_Tipo_Especialidad.head()"
   ]
  },
  {
   "cell_type": "code",
   "execution_count": 6,
   "id": "fd548778",
   "metadata": {},
   "outputs": [
    {
     "name": "stdout",
     "output_type": "stream",
     "text": [
      "[[1 'Construcción de paredes' 1]\n",
      " [2 'Instalación de puerta' 2]\n",
      " [3 'Instalación electrica' 3]\n",
      " [4 'Fabricación de Puerta' 2]\n",
      " [5 'Instalación de ventanas' 2]\n",
      " [6 'Diseño de muebles' 2]\n",
      " [7 'Construcción de muebles' 2]\n",
      " [8 'Instalación de suelos de madera' 2]\n",
      " [9 'Instalación de techos de madera' 2]\n",
      " [10 'Construcción de escaleras' 2]\n",
      " [11 'Reparación y mantemiento de elementos de madera' 2]\n",
      " [12 'Mantenimiento electrica' 3]\n",
      " [13 'Reparación electrica' 3]\n",
      " [14 'Instalación de sistemas de seguridad' 3]\n",
      " [15 'Instalación de sistemas de energia renovable' 3]\n",
      " [16 'Instalación de sistemas de automatización del hogar' 3]\n",
      " [17 'Instalación de sistemas de carga de vehiculos electricos' 3]\n",
      " [18 'Diseño y planificación de sistemas electricos' 3]\n",
      " [19 'Instalación de cimientos' 1]\n",
      " [20 'Instalación de pisos y losas' 1]\n",
      " [21 'Construcción de chimeneas' 1]\n",
      " [22 'Reparación de estructuras de mamposteria' 1]\n",
      " [23 'Instalación de azulejos' 1]\n",
      " [24 'Construcción de escaleras' 1]\n",
      " [25 'Instalación de tuberias' 4]\n",
      " [26 'Reparación de fugas' 4]\n",
      " [27 'Instalación de grifos y accesorios' 4]\n",
      " [28 'Limpieza de desagues' 4]\n",
      " [29 'Instalación de calentadores de agua' 4]\n",
      " [30 'Instalación de termas electricas' 4]\n",
      " [31 'Reparación de termas electricas' 4]\n",
      " [32 'Reparación de calentadores de agua' 4]\n",
      " [33 'Instalación de sistemas de calefacción' 4]\n",
      " [34 'Pruebas y mantenimiento de tuberias' 4]\n",
      " [35 'Preparación de superficies' 5]\n",
      " [36 'Selección de pinturas y acabados' 5]\n",
      " [37 'Aplicación de pintura' 5]\n",
      " [38 'Pintura de interiores' 5]\n",
      " [39 'Pintura de exteriores' 5]\n",
      " [40 'Pintura de estructuras metalicas' 5]\n",
      " [41 'Acabado de madera' 5]\n",
      " [42 'Soldadura de metales' 6]\n",
      " [43 'Preparación de metales' 6]\n",
      " [44\n",
      "  'Interpretación de planos y esspecificaciones de soldadura requerida' 6]\n",
      " [45 'Selección del equipo de soldadura' 6]\n",
      " [46 'Reparación de piezas metalicas' 6]\n",
      " [47 'Inspección de soldaduras' 6]\n",
      " [48 'Mantenimiento de equipos de soldadura' 6]\n",
      " [49 'Diagnóstico de problemas' 7]\n",
      " [50 'Mantenimiento de vehiculos ' 7]\n",
      " [51 'Reparación de sistemas mecanicos' 7]\n",
      " [52 'Reparación de sistemas electricos' 7]\n",
      " [53 'Instalación de piezas y accesorios' 7]\n",
      " [54 'Soldadura y fabricación' 7]\n",
      " [55 'Inspección y pruebas' 7]\n",
      " [56 'Instalación de vidrios' 8]\n",
      " [57 'Corte y moldeado de vidrios' 8]\n",
      " [58 'Fabricación de vidrios a medida' 8]\n",
      " [59 'Mantenimiento de vidrios' 8]\n",
      " [60 'Asesoramiento tecnico de tipos de vidriosy propiedades' 8]\n",
      " [61 'Instalación de vidrios en edificios altos' 8]]\n"
     ]
    }
   ],
   "source": [
    "df_Tipo_Especialidad.head(1)\n",
    "df_Tipo_Especialidad['TipoEspecialidad']\n",
    "datos = np.array(df_Tipo_Especialidad)\n",
    "print(datos)"
   ]
  },
  {
   "cell_type": "code",
   "execution_count": 7,
   "id": "fe636102",
   "metadata": {},
   "outputs": [
    {
     "data": {
      "text/html": [
       "<div>\n",
       "<style scoped>\n",
       "    .dataframe tbody tr th:only-of-type {\n",
       "        vertical-align: middle;\n",
       "    }\n",
       "\n",
       "    .dataframe tbody tr th {\n",
       "        vertical-align: top;\n",
       "    }\n",
       "\n",
       "    .dataframe thead th {\n",
       "        text-align: right;\n",
       "    }\n",
       "</style>\n",
       "<table border=\"1\" class=\"dataframe\">\n",
       "  <thead>\n",
       "    <tr style=\"text-align: right;\">\n",
       "      <th></th>\n",
       "      <th>Id_Especialidad</th>\n",
       "      <th>Especialidad</th>\n",
       "    </tr>\n",
       "  </thead>\n",
       "  <tbody>\n",
       "    <tr>\n",
       "      <th>0</th>\n",
       "      <td>1</td>\n",
       "      <td>Albañil</td>\n",
       "    </tr>\n",
       "    <tr>\n",
       "      <th>1</th>\n",
       "      <td>2</td>\n",
       "      <td>Carpintero</td>\n",
       "    </tr>\n",
       "    <tr>\n",
       "      <th>2</th>\n",
       "      <td>3</td>\n",
       "      <td>Electricista</td>\n",
       "    </tr>\n",
       "    <tr>\n",
       "      <th>3</th>\n",
       "      <td>4</td>\n",
       "      <td>Fontanero</td>\n",
       "    </tr>\n",
       "    <tr>\n",
       "      <th>4</th>\n",
       "      <td>5</td>\n",
       "      <td>Pintor</td>\n",
       "    </tr>\n",
       "  </tbody>\n",
       "</table>\n",
       "</div>"
      ],
      "text/plain": [
       "   Id_Especialidad  Especialidad\n",
       "0                1       Albañil\n",
       "1                2    Carpintero\n",
       "2                3  Electricista\n",
       "3                4     Fontanero\n",
       "4                5        Pintor"
      ]
     },
     "execution_count": 7,
     "metadata": {},
     "output_type": "execute_result"
    }
   ],
   "source": [
    "# Leemos nuestra consulta query\n",
    "df_Especialidad = pd.read_sql(query_Especialidad, con)\n",
    "df_Especialidad.head()"
   ]
  },
  {
   "cell_type": "code",
   "execution_count": 8,
   "id": "c8e1effb",
   "metadata": {},
   "outputs": [
    {
     "data": {
      "text/html": [
       "<div>\n",
       "<style scoped>\n",
       "    .dataframe tbody tr th:only-of-type {\n",
       "        vertical-align: middle;\n",
       "    }\n",
       "\n",
       "    .dataframe tbody tr th {\n",
       "        vertical-align: top;\n",
       "    }\n",
       "\n",
       "    .dataframe thead th {\n",
       "        text-align: right;\n",
       "    }\n",
       "</style>\n",
       "<table border=\"1\" class=\"dataframe\">\n",
       "  <thead>\n",
       "    <tr style=\"text-align: right;\">\n",
       "      <th></th>\n",
       "      <th>Id_Tecnico</th>\n",
       "      <th>Nombre</th>\n",
       "      <th>Apellido</th>\n",
       "      <th>Telefono</th>\n",
       "      <th>Id_Especialidad</th>\n",
       "      <th>Id_Estado_Tecnico</th>\n",
       "      <th>Id_Usuario</th>\n",
       "    </tr>\n",
       "  </thead>\n",
       "  <tbody>\n",
       "    <tr>\n",
       "      <th>0</th>\n",
       "      <td>1</td>\n",
       "      <td>Disponible</td>\n",
       "      <td>Disponible</td>\n",
       "      <td>000000000</td>\n",
       "      <td>1</td>\n",
       "      <td>1</td>\n",
       "      <td>1</td>\n",
       "    </tr>\n",
       "    <tr>\n",
       "      <th>1</th>\n",
       "      <td>2</td>\n",
       "      <td>Davis</td>\n",
       "      <td>Flores Navarro</td>\n",
       "      <td>952885522</td>\n",
       "      <td>2</td>\n",
       "      <td>1</td>\n",
       "      <td>2</td>\n",
       "    </tr>\n",
       "    <tr>\n",
       "      <th>2</th>\n",
       "      <td>10</td>\n",
       "      <td>Raul</td>\n",
       "      <td>Lomas</td>\n",
       "      <td>159162158</td>\n",
       "      <td>1</td>\n",
       "      <td>1</td>\n",
       "      <td>2024</td>\n",
       "    </tr>\n",
       "  </tbody>\n",
       "</table>\n",
       "</div>"
      ],
      "text/plain": [
       "   Id_Tecnico      Nombre        Apellido   Telefono  Id_Especialidad  \\\n",
       "0           1  Disponible      Disponible  000000000                1   \n",
       "1           2       Davis  Flores Navarro  952885522                2   \n",
       "2          10        Raul           Lomas  159162158                1   \n",
       "\n",
       "   Id_Estado_Tecnico  Id_Usuario  \n",
       "0                  1           1  \n",
       "1                  1           2  \n",
       "2                  1        2024  "
      ]
     },
     "execution_count": 8,
     "metadata": {},
     "output_type": "execute_result"
    }
   ],
   "source": [
    "# Leemos nuestra consulta query\n",
    "df_Tecnico = pd.read_sql(query_Tecnico, con)\n",
    "df_Tecnico.head()"
   ]
  },
  {
   "cell_type": "code",
   "execution_count": 9,
   "id": "502bb9b2",
   "metadata": {},
   "outputs": [
    {
     "data": {
      "text/html": [
       "<div>\n",
       "<style scoped>\n",
       "    .dataframe tbody tr th:only-of-type {\n",
       "        vertical-align: middle;\n",
       "    }\n",
       "\n",
       "    .dataframe tbody tr th {\n",
       "        vertical-align: top;\n",
       "    }\n",
       "\n",
       "    .dataframe thead th {\n",
       "        text-align: right;\n",
       "    }\n",
       "</style>\n",
       "<table border=\"1\" class=\"dataframe\">\n",
       "  <thead>\n",
       "    <tr style=\"text-align: right;\">\n",
       "      <th></th>\n",
       "      <th>Id</th>\n",
       "      <th>Id_Tecnico</th>\n",
       "      <th>Id_Tipo_Especialidad</th>\n",
       "    </tr>\n",
       "  </thead>\n",
       "  <tbody>\n",
       "    <tr>\n",
       "      <th>0</th>\n",
       "      <td>2</td>\n",
       "      <td>1</td>\n",
       "      <td>1</td>\n",
       "    </tr>\n",
       "    <tr>\n",
       "      <th>1</th>\n",
       "      <td>3</td>\n",
       "      <td>2</td>\n",
       "      <td>2</td>\n",
       "    </tr>\n",
       "    <tr>\n",
       "      <th>2</th>\n",
       "      <td>4</td>\n",
       "      <td>3</td>\n",
       "      <td>3</td>\n",
       "    </tr>\n",
       "  </tbody>\n",
       "</table>\n",
       "</div>"
      ],
      "text/plain": [
       "   Id  Id_Tecnico  Id_Tipo_Especialidad\n",
       "0   2           1                     1\n",
       "1   3           2                     2\n",
       "2   4           3                     3"
      ]
     },
     "execution_count": 9,
     "metadata": {},
     "output_type": "execute_result"
    }
   ],
   "source": [
    "# Leemos nuestra consulta query\n",
    "df_RTecnico_TipoEspecialidad = pd.read_sql(query_RTecnico_TipoEspecialidad, con)\n",
    "df_RTecnico_TipoEspecialidad.head()"
   ]
  },
  {
   "cell_type": "markdown",
   "id": "41d825cc",
   "metadata": {},
   "source": [
    "## Codigo Recomendación"
   ]
  },
  {
   "cell_type": "code",
   "execution_count": 10,
   "id": "492fbf29",
   "metadata": {},
   "outputs": [
    {
     "name": "stdout",
     "output_type": "stream",
     "text": [
      "Requirement already satisfied: nltk in c:\\users\\hp\\anaconda3\\lib\\site-packages (3.7)\n",
      "Requirement already satisfied: regex>=2021.8.3 in c:\\users\\hp\\anaconda3\\lib\\site-packages (from nltk) (2022.7.9)\n",
      "Requirement already satisfied: tqdm in c:\\users\\hp\\anaconda3\\lib\\site-packages (from nltk) (4.64.1)\n",
      "Requirement already satisfied: click in c:\\users\\hp\\anaconda3\\lib\\site-packages (from nltk) (8.0.4)\n",
      "Requirement already satisfied: joblib in c:\\users\\hp\\anaconda3\\lib\\site-packages (from nltk) (1.1.0)\n",
      "Requirement already satisfied: colorama in c:\\users\\hp\\anaconda3\\lib\\site-packages (from click->nltk) (0.4.5)\n",
      "Collecting inflect\n",
      "  Downloading inflect-6.0.4-py3-none-any.whl (34 kB)\n",
      "Collecting pydantic>=1.9.1\n",
      "  Downloading pydantic-1.10.7-cp39-cp39-win_amd64.whl (2.2 MB)\n",
      "     ---------------------------------------- 2.2/2.2 MB 8.2 MB/s eta 0:00:00\n",
      "Requirement already satisfied: typing-extensions>=4.2.0 in c:\\users\\hp\\anaconda3\\lib\\site-packages (from pydantic>=1.9.1->inflect) (4.3.0)\n",
      "Installing collected packages: pydantic, inflect\n",
      "Successfully installed inflect-6.0.4 pydantic-1.10.7\n"
     ]
    },
    {
     "name": "stderr",
     "output_type": "stream",
     "text": [
      "[nltk_data] Downloading package punkt to\n",
      "[nltk_data]     C:\\Users\\HP\\AppData\\Roaming\\nltk_data...\n",
      "[nltk_data]   Unzipping tokenizers\\punkt.zip.\n",
      "[nltk_data] Downloading package stopwords to\n",
      "[nltk_data]     C:\\Users\\HP\\AppData\\Roaming\\nltk_data...\n",
      "[nltk_data]   Unzipping corpora\\stopwords.zip.\n",
      "[nltk_data] Downloading package wordnet to\n",
      "[nltk_data]     C:\\Users\\HP\\AppData\\Roaming\\nltk_data...\n"
     ]
    }
   ],
   "source": [
    "#Librerias\n",
    "!pip install nltk\n",
    "!pip install inflect\n",
    "import nltk\n",
    "import inflect\n",
    "nltk.download('punkt')\n",
    "nltk.download('stopwords')\n",
    "nltk.download('wordnet')\n",
    "from nltk.tokenize import word_tokenize\n",
    "from nltk.corpus import stopwords\n",
    "#from nltk.stem import WordNetLemmatizer"
   ]
  },
  {
   "cell_type": "code",
   "execution_count": 15,
   "id": "c25cf7f5",
   "metadata": {},
   "outputs": [],
   "source": [
    "# Texto de entrada para el autoaprendizaje\n",
    "texto = \"Necesito alguien que repare un techo de madera\""
   ]
  },
  {
   "cell_type": "code",
   "execution_count": 12,
   "id": "27c572ca",
   "metadata": {},
   "outputs": [],
   "source": [
    "# Tokenización de palabras\n",
    "palabras = word_tokenize(texto.lower())\n",
    "\n",
    "# Eliminación de palabras comunes o irrelevantes\n",
    "stop_words = set(stopwords.words('spanish'))\n",
    "palabras_filtradas = [palabra for palabra in palabras if not palabra in stop_words]\n",
    "\n",
    "# Extracción de las palabras claves\n",
    "palabras_claves = set(palabras_filtradas)"
   ]
  },
  {
   "cell_type": "code",
   "execution_count": 13,
   "id": "02fc81cf",
   "metadata": {},
   "outputs": [],
   "source": [
    "# Comparación de las palabras claves con las descripciones de trabajo para obtener recomendaciones\n",
    "\n",
    "# Inicializar la clase Inflector para manejar la pluralización y singularización de palabras\n",
    "inflector = inflect.engine()\n",
    "\n",
    "# Inicializar una lista vacía para almacenar las recomendaciones de trabajo\n",
    "recomendaciones = []\n",
    "\n",
    "# Iterar a través de los trabajos en el dataset\n",
    "for trabajo in datos:\n",
    "    # Obtener la descripción del trabajo actual\n",
    "    descripcion = trabajo[1]\n",
    "    \n",
    "    # Tokenizar la descripción del trabajo y filtrar las palabras irrelevantes\n",
    "    palabras_trabajo = word_tokenize(descripcion.lower())\n",
    "    palabras_filtradas_trabajo = [palabra for palabra in palabras_trabajo if not palabra in stop_words]\n",
    "    \n",
    "     # Inicializar un conjunto vacío para almacenar las palabras clave del trabajo actual\n",
    "    palabras_claves_trabajo = set(palabras_filtradas_trabajo)\n",
    "\n",
    "    # Iterar a través de las palabras filtradas en el trabajo actual\n",
    "    for palabra in palabras_filtradas_trabajo:\n",
    "        # convertir la palabra a su forma singular o plural\n",
    "        singular = inflector.singular_noun(palabra)\n",
    "        plural = inflector.plural_noun(palabra)\n",
    "\n",
    "         # Si la palabra no tiene una forma singular o plural, agregar la palabra original al conjunto de palabras clave\n",
    "        if singular == False and plural == False:\n",
    "            palabras_claves_trabajo.add(palabra)\n",
    "        else:\n",
    "            # Agregar la forma singular o plural de la palabra al conjunto de palabras clave\n",
    "            palabras_claves_trabajo.add(singular if singular else plural)\n",
    "\n",
    "    # comparar las palabras clave del trabajo con las palabras clave del usuario\n",
    "    if len(palabras_claves.intersection(palabras_claves_trabajo)) >= 2:\n",
    "        # Si hay una intersección, agregar el trabajo actual a la lista de recomendaciones\n",
    "        recomendaciones.append(trabajo[0])"
   ]
  },
  {
   "cell_type": "code",
   "execution_count": 16,
   "id": "d7bb7397",
   "metadata": {},
   "outputs": [
    {
     "name": "stdout",
     "output_type": "stream",
     "text": [
      "[9]\n"
     ]
    }
   ],
   "source": [
    "print(recomendaciones)\n",
    "#df_Tipo_Especialidad.iloc[30-1]"
   ]
  },
  {
   "cell_type": "code",
   "execution_count": 116,
   "id": "2093c737",
   "metadata": {},
   "outputs": [
    {
     "name": "stdout",
     "output_type": "stream",
     "text": [
      "Recomendaciones de trabajo:\n",
      "9\n"
     ]
    }
   ],
   "source": [
    "# Imprimir las recomendaciones\n",
    "print(\"Recomendaciones de trabajo:\")\n",
    "for recomendacion in recomendaciones:\n",
    "  print( recomendacion)"
   ]
  },
  {
   "cell_type": "code",
   "execution_count": null,
   "id": "9e7ed4d2",
   "metadata": {},
   "outputs": [],
   "source": []
  }
 ],
 "metadata": {
  "kernelspec": {
   "display_name": "Python 3 (ipykernel)",
   "language": "python",
   "name": "python3"
  },
  "language_info": {
   "codemirror_mode": {
    "name": "ipython",
    "version": 3
   },
   "file_extension": ".py",
   "mimetype": "text/x-python",
   "name": "python",
   "nbconvert_exporter": "python",
   "pygments_lexer": "ipython3",
   "version": "3.9.13"
  }
 },
 "nbformat": 4,
 "nbformat_minor": 5
}
